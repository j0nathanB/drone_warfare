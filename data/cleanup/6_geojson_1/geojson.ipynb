{
 "cells": [
  {
   "cell_type": "code",
   "execution_count": 39,
   "metadata": {},
   "outputs": [],
   "source": [
    "import geopandas as gpd\n",
    "from shapely.geometry import Point\n",
    "import pandas as pd\n",
    "from thefuzz import process\n",
    "import re\n",
    "\n",
    "\n",
    "DIR = \"/Users/tlahtolli/dev/drone_warfare/data/cleanup\"\n",
    "GEOJSON_DIR = \"/Users/tlahtolli/dev/drone_warfare/data/geoboundaries\"\n",
    "\n",
    "countries_list = ['AF', 'PK', 'SO', 'YE']"
   ]
  },
  {
   "cell_type": "code",
   "execution_count": 57,
   "metadata": {},
   "outputs": [
    {
     "name": "stdout",
     "output_type": "stream",
     "text": [
      "Processing AF\n",
      "Processing PK\n",
      "Processing SO\n",
      "Processing YE\n"
     ]
    }
   ],
   "source": [
    "geojson_country_code = {\n",
    "    'AF': 'AFG',\n",
    "    'PK': 'PAK',\n",
    "    'SO': 'SOM',\n",
    "    'YE': 'YEM'\n",
    "}\n",
    "\n",
    "geojson_level = {\n",
    "    'Adm_0': 'ADM0',\n",
    "    'Adm_1': 'ADM1',\n",
    "    'Adm_2': 'ADM2',\n",
    "    'Adm_3': 'ADM3',\n",
    "    'Adm_4': 'ADM4',\n",
    "}\n",
    "\n",
    "def create_sort_name(name):\n",
    "    name = re.sub(r'[^a-zA-Z0-9\\s]', '', name)\n",
    "    return name.upper().replace(' ', '')\n",
    "\n",
    "def fuzzy_search(query, choices):\n",
    "    match = process.extract(query, choices)\n",
    "    return match\n",
    "\n",
    "for country in countries_list:\n",
    "    print(f'Processing {country}')\n",
    "    levels = ['Adm_0', 'Adm_1', 'Adm_2', 'Loc']\n",
    "    if country == 'PK':\n",
    "        levels.append('Adm_3')\n",
    "        levels.append('Adm_4')\n",
    "\n",
    "    geo_code = geojson_country_code[country]\n",
    "    \n",
    "    for level in levels:\n",
    "        df = pd.read_csv(f'{DIR}/5_nga_aggregate/{country}_{level}_agg.csv')\n",
    "\n",
    "        if level == 'Loc' or level == 'Adm_4':\n",
    "            continue\n",
    "\n",
    "        geo_level = geojson_level[level]\n",
    "\n",
    "        geojson_file = f'{GEOJSON_DIR}/{geo_code}/geoBoundaries-{geo_code}-{geo_level}_simplified.geojson'\n",
    "        gdf_geojson = gpd.read_file(geojson_file)\n",
    "        gdf_geojson.to_csv(f'{DIR}/6_geojson/{country}_{level}_geojson.csv', index=False)\n",
    "        if level != 'Adm_0':\n",
    "            if 'shapeName' not in gdf_geojson.columns:\n",
    "                gdf_geojson = gdf_geojson.rename(columns={'PROV_34_NA': 'shapeName'})\n",
    "            gdf_geojson['sort_name'] = gdf_geojson['shapeName'].apply(lambda x: create_sort_name(x))\n",
    "\n",
    "            df['options'] = df[f'matched_sort_{level}'].apply(lambda x: fuzzy_search(x, gdf_geojson['sort_name']))\n",
    "            df.to_csv(f'{DIR}/7_geojson_review/{country}_{level}_review.csv', index=True)"
   ]
  }
 ],
 "metadata": {
  "kernelspec": {
   "display_name": "Python 3",
   "language": "python",
   "name": "python3"
  },
  "language_info": {
   "codemirror_mode": {
    "name": "ipython",
    "version": 3
   },
   "file_extension": ".py",
   "mimetype": "text/x-python",
   "name": "python",
   "nbconvert_exporter": "python",
   "pygments_lexer": "ipython3",
   "version": "3.9.7"
  },
  "orig_nbformat": 4
 },
 "nbformat": 4,
 "nbformat_minor": 2
}
