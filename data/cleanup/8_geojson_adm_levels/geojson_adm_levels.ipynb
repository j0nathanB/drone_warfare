{
 "cells": [
  {
   "cell_type": "code",
   "execution_count": 2,
   "metadata": {},
   "outputs": [],
   "source": [
    "import geopandas as gpd\n",
    "from shapely.geometry import Point\n",
    "\n",
    "CLEANUP_DIR = \"/Users/tlahtolli/dev/drone_warfare/data/cleanup/\"\n",
    "GEOJSON_DIR = \"/Users/tlahtolli/dev/drone_warfare/data/geoBoundaries\"\n",
    "\n",
    "countries = ['AFG', 'PAK', 'SOM', 'YEM']"
   ]
  },
  {
   "cell_type": "code",
   "execution_count": 3,
   "metadata": {},
   "outputs": [],
   "source": [
    "country_names = {\n",
    "    \"AFG\": \"Afghanistan\",\n",
    "    \"PAK\": \"Pakistan\",\n",
    "    \"SOM\": \"Somalia\",\n",
    "    \"YEM\": \"Yemen\"\n",
    "}\n",
    "\n",
    "def verify_child_adm(row, gdf_parent):\n",
    "    # Get one point from the child adm level, [longitude, latitude]\n",
    "    point = Point(row['geometry'].centroid.x, row['geometry'].centroid.y)\n",
    "    parent_adm = gdf_parent[gdf_parent.geometry.contains(point)]\n",
    "    \n",
    "    # Return the parent ADM1 name if it exists, otherwise return None\n",
    "    return parent_adm['shapeName'].values[0] if not parent_adm.empty else None\n",
    "\n",
    "def update_shapeName_and_drop_column(gdf, column_name):\n",
    "    if column_name in gdf.columns:\n",
    "        gdf['shapeName'] = gdf[column_name]\n",
    "        gdf.drop(columns=[column_name], inplace=True)\n",
    "    return gdf\n",
    "\n",
    "for country in countries:\n",
    "    # Load your GeoJSON shape\n",
    "    levels = ['ADM0', 'ADM1', 'ADM2'] if country == 'PAK' else ['ADM0', 'ADM1']\n",
    "    for level_idx, level in enumerate(levels):\n",
    "        ADM_parent = f'{GEOJSON_DIR}/{country}/geoBoundaries-{country}-ADM{level_idx}_simplified.geojson'\n",
    "        ADM_child = f'{GEOJSON_DIR}/{country}/geoBoundaries-{country}-ADM{level_idx + 1}_simplified.geojson'\n",
    "\n",
    "        gdf_parent = gpd.read_file(ADM_parent)\n",
    "        gdf_child = gpd.read_file(ADM_child)\n",
    "\n",
    "        # Use the function for both parent and child GeoDataFrames\n",
    "        gdf_parent = update_shapeName_and_drop_column(gdf_parent, 'PROV_34_NA')\n",
    "        gdf_child = update_shapeName_and_drop_column(gdf_child, 'PROV_34_NA')\n",
    "\n",
    "        gdf_child[f'parentAdm'] = gdf_child.apply(lambda row: verify_child_adm(row, gdf_parent), axis=1)\n",
    "\n",
    "        # Exceptions\n",
    "        if level == 'ADM0':\n",
    "            gdf_child['parentAdm'] = gdf_child['parentAdm'].fillna(country_names[country])\n",
    "\n",
    "        if (level == 'ADM0' or level == 'AMD1' or level == 'AMD2') and country == 'PAK':\n",
    "            gdf_child['parentAdm'] = gdf_child['parentAdm'].fillna('Azad Kashmir')\n",
    "\n",
    "        if level == 'ADM1' and country == 'YEM':\n",
    "            gdf_child['parentAdm'] = gdf_child['parentAdm'].fillna('Al Hudaydah Governorate')\n",
    "\n",
    "        gdf_child.to_file(f'{CLEANUP_DIR}/8_geojson_adm_levels/geoBoundaries-{country}-ADM{level_idx + 1}_simplified.geojson', driver='GeoJSON')\n",
    "\n",
    "        # Use below to check which parent rows were dropped (meaning there weren't any child rows that were found within the parent shape)\n",
    "        # # Save the filter condition\n",
    "        # mask = gdf_child[f'parent_{levels[level_idx - 1]}'].notna()\n",
    "\n",
    "        # # Filter the dataframe using the mask\n",
    "        # gdf_child_filtered = gdf_child[mask]\n",
    "\n",
    "        # # Check which rows were dropped\n",
    "        # dropped_rows = gdf_child[~mask]\n",
    "        # print(\"Dropped rows:\")\n",
    "        # print(country, level, '\\n', dropped_rows, '\\n')"
   ]
  },
  {
   "cell_type": "code",
   "execution_count": null,
   "metadata": {},
   "outputs": [],
   "source": []
  }
 ],
 "metadata": {
  "kernelspec": {
   "display_name": "Python 3",
   "language": "python",
   "name": "python3"
  },
  "language_info": {
   "codemirror_mode": {
    "name": "ipython",
    "version": 3
   },
   "file_extension": ".py",
   "mimetype": "text/x-python",
   "name": "python",
   "nbconvert_exporter": "python",
   "pygments_lexer": "ipython3",
   "version": "3.9.7"
  },
  "orig_nbformat": 4
 },
 "nbformat": 4,
 "nbformat_minor": 2
}
