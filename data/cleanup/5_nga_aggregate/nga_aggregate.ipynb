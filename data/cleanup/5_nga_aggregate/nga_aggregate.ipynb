{
 "cells": [
  {
   "cell_type": "code",
   "execution_count": 1,
   "metadata": {},
   "outputs": [],
   "source": [
    "import pandas as pd\n",
    "\n",
    "DIR = \"/Users/tlahtolli/dev/drone_warfare/data/cleanup\"\n",
    "\n",
    "countries = ['AF', 'PK', 'SO', 'YE']"
   ]
  },
  {
   "cell_type": "code",
   "execution_count": 2,
   "metadata": {},
   "outputs": [
    {
     "name": "stdout",
     "output_type": "stream",
     "text": [
      "Processing AF\n",
      "Processing PK\n",
      "Processing SO\n",
      "Processing YE\n"
     ]
    }
   ],
   "source": [
    "for country in countries:\n",
    "    print(f'Processing {country}')\n",
    "    df = pd.read_csv(f'{DIR}/4_nga_normalize/{country}.csv')\n",
    "    \n",
    "    # Add a country column to aggregate that country's data\n",
    "    df['country_code'] = country\n",
    "    result_all = df.groupby('country_code').agg({\n",
    "        'Strike ID': 'count',\n",
    "        'Date': lambda x: list(x),\n",
    "        'Minimum total people killed': lambda x: list(x), \n",
    "        'Maximum total people killed': lambda x: list(x), \n",
    "        'Minimum civilians reported killed': lambda x: list(x), \n",
    "        'Maximum civilians reported killed': lambda x: list(x), \n",
    "        'Minimum children reported killed': lambda x: list(x),\n",
    "        'Maximum children reported killed': lambda x: list(x),\n",
    "        'Minimum reported injured': lambda x: list(x),\n",
    "        'Maximum reported injured': lambda x: list(x),\n",
    "        })\n",
    "\n",
    "    result_all.to_csv(f'{DIR}/5_nga_aggregate/{country}_Adm_0_agg.csv', index=True)\n",
    "\n",
    "\n",
    "    columns = ['Adm_1', 'Adm_2', 'Loc']\n",
    "    if country == 'PK':\n",
    "        columns.append('Adm_3')\n",
    "\n",
    "    for column in columns:\n",
    "        # Group by 'adm_1' and perform different aggregations for different columns\n",
    "        result = df.groupby(f'matched_sort_{column}').agg({\n",
    "            'Strike ID': 'count',\n",
    "            'Date': lambda x: list(x),\n",
    "            'Minimum total people killed': lambda x: list(x), \n",
    "            'Maximum total people killed': lambda x: list(x), \n",
    "            'Minimum civilians reported killed': lambda x: list(x), \n",
    "            'Maximum civilians reported killed': lambda x: list(x), \n",
    "            'Minimum children reported killed': lambda x: list(x),\n",
    "            'Maximum children reported killed': lambda x: list(x),\n",
    "            'Minimum reported injured': lambda x: list(x),\n",
    "            'Maximum reported injured': lambda x: list(x),\n",
    "            f'matched_sort_{column}_ufi': 'first', \n",
    "            f'matched_sort_{column}_adm1': 'first',\n",
    "            f'matched_sort_{column}_full_name': 'first',\n",
    "            f'matched_sort_{column}_full_nm_nd': 'first',\n",
    "            f'matched_sort_{column}_lat_dd': 'first',\n",
    "            f'matched_sort_{column}_long_dd': 'first',\n",
    "            })\n",
    "\n",
    "        result.to_csv(f'{DIR}/5_nga_aggregate/{country}_{column}_agg.csv', index=True)"
   ]
  },
  {
   "cell_type": "code",
   "execution_count": null,
   "metadata": {},
   "outputs": [],
   "source": []
  }
 ],
 "metadata": {
  "kernelspec": {
   "display_name": "Python 3",
   "language": "python",
   "name": "python3"
  },
  "language_info": {
   "codemirror_mode": {
    "name": "ipython",
    "version": 3
   },
   "file_extension": ".py",
   "mimetype": "text/x-python",
   "name": "python",
   "nbconvert_exporter": "python",
   "pygments_lexer": "ipython3",
   "version": "3.9.7"
  },
  "orig_nbformat": 4
 },
 "nbformat": 4,
 "nbformat_minor": 2
}
