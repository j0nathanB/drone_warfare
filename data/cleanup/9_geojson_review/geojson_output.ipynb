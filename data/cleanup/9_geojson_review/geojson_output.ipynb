{
 "cells": [
  {
   "cell_type": "code",
   "execution_count": 1,
   "metadata": {},
   "outputs": [
    {
     "name": "stderr",
     "output_type": "stream",
     "text": [
      "/Users/tlahtolli/Library/Python/3.9/lib/python/site-packages/IPython/core/interactiveshell.py:3378: DtypeWarning: Columns (7,8,9,17,18,20,21,23,30,32) have mixed types.Specify dtype option on import or set low_memory=False.\n",
      "  exec(code_obj, self.user_global_ns, self.user_ns)\n"
     ]
    }
   ],
   "source": [
    "import geopandas as gpd\n",
    "from shapely.geometry import Point\n",
    "import pandas as pd\n",
    "from thefuzz import process\n",
    "import re\n",
    "\n",
    "\n",
    "DATA_DIR = \"/Users/tlahtolli/dev/drone_warfare/data/\"\n",
    "CLEANUP_DIR = \"/Users/tlahtolli/dev/drone_warfare/data/cleanup/\"\n",
    "admin_nga = pd.read_csv(f'{DATA_DIR}/nga/Administrative_Regions/Administrative_Regions.txt', sep='\\t')\n",
    "\n",
    "countries = ['AFG', 'PAK', 'SOM', 'YEM']"
   ]
  },
  {
   "cell_type": "code",
   "execution_count": 2,
   "metadata": {},
   "outputs": [
    {
     "name": "stdout",
     "output_type": "stream",
     "text": [
      "Processing AFG\n"
     ]
    },
    {
     "name": "stderr",
     "output_type": "stream",
     "text": [
      "/Users/tlahtolli/Library/Python/3.9/lib/python/site-packages/IPython/core/interactiveshell.py:3318: FutureWarning: The `op` parameter is deprecated and will be removed in a future release. Please use the `predicate` parameter instead.\n",
      "  if await self.run_code(code, result, async_=asy):\n",
      "/Users/tlahtolli/Library/Python/3.9/lib/python/site-packages/IPython/core/interactiveshell.py:3318: FutureWarning: The `op` parameter is deprecated and will be removed in a future release. Please use the `predicate` parameter instead.\n",
      "  if await self.run_code(code, result, async_=asy):\n"
     ]
    },
    {
     "name": "stdout",
     "output_type": "stream",
     "text": [
      "Processing PAK\n"
     ]
    },
    {
     "name": "stderr",
     "output_type": "stream",
     "text": [
      "/Users/tlahtolli/Library/Python/3.9/lib/python/site-packages/IPython/core/interactiveshell.py:3318: FutureWarning: The `op` parameter is deprecated and will be removed in a future release. Please use the `predicate` parameter instead.\n",
      "  if await self.run_code(code, result, async_=asy):\n",
      "/Users/tlahtolli/Library/Python/3.9/lib/python/site-packages/IPython/core/interactiveshell.py:3318: FutureWarning: The `op` parameter is deprecated and will be removed in a future release. Please use the `predicate` parameter instead.\n",
      "  if await self.run_code(code, result, async_=asy):\n",
      "/Users/tlahtolli/Library/Python/3.9/lib/python/site-packages/IPython/core/interactiveshell.py:3318: FutureWarning: The `op` parameter is deprecated and will be removed in a future release. Please use the `predicate` parameter instead.\n",
      "  if await self.run_code(code, result, async_=asy):\n",
      "/Users/tlahtolli/Library/Python/3.9/lib/python/site-packages/IPython/core/interactiveshell.py:3318: FutureWarning: The `op` parameter is deprecated and will be removed in a future release. Please use the `predicate` parameter instead.\n",
      "  if await self.run_code(code, result, async_=asy):\n",
      "/Users/tlahtolli/Library/Python/3.9/lib/python/site-packages/IPython/core/interactiveshell.py:3318: FutureWarning: The `op` parameter is deprecated and will be removed in a future release. Please use the `predicate` parameter instead.\n",
      "  if await self.run_code(code, result, async_=asy):\n"
     ]
    },
    {
     "name": "stdout",
     "output_type": "stream",
     "text": [
      "Processing SOM\n",
      "Processing YEM\n"
     ]
    },
    {
     "name": "stderr",
     "output_type": "stream",
     "text": [
      "/Users/tlahtolli/Library/Python/3.9/lib/python/site-packages/IPython/core/interactiveshell.py:3318: FutureWarning: The `op` parameter is deprecated and will be removed in a future release. Please use the `predicate` parameter instead.\n",
      "  if await self.run_code(code, result, async_=asy):\n",
      "/Users/tlahtolli/Library/Python/3.9/lib/python/site-packages/IPython/core/interactiveshell.py:3318: FutureWarning: The `op` parameter is deprecated and will be removed in a future release. Please use the `predicate` parameter instead.\n",
      "  if await self.run_code(code, result, async_=asy):\n"
     ]
    }
   ],
   "source": [
    "geojson_country_code = {\n",
    "    'AFG': 'AF', \n",
    "    'PAK': 'PK',\n",
    "    'SOM': 'SO',\n",
    "    'YEM': 'YE',\n",
    "}\n",
    "\n",
    "geojson_level = {\n",
    "    'Adm_0': 'ADM0',\n",
    "    'Adm_1': 'ADM1',\n",
    "    'Adm_2': 'ADM2',\n",
    "    'Adm_3': 'ADM3',\n",
    "}\n",
    "\n",
    "def map_columns(level):\n",
    "    return {\n",
    "        f'matched_sort_{level}': 'sort_name',\n",
    "        'Strike ID': 'strike_count',\n",
    "        'Date': 'dates',\n",
    "        'Minimum total people killed': 'min_total',\n",
    "        'Maximum total people killed': 'max_total',\n",
    "        'Minimum civilians reported killed': 'min_civilians',\n",
    "        'Maximum civilians reported killed': 'max_civilians',\n",
    "        'Minimum children reported killed': 'min_children',\n",
    "        'Maximum children reported killed': 'max_children',\n",
    "        'Minimum reported injured': 'min_injured',\n",
    "        'Maximum reported injured': 'max_injured',\n",
    "        f'matched_sort_{level}_ufi': 'ufi',\n",
    "        f'matched_sort_{level}_adm1': 'adm1',\n",
    "        f'matched_sort_{level}_full_name': 'full_name',\n",
    "        f'matched_sort_{level}_full_nm_nd': 'full_nm_nd',\n",
    "        f'matched_sort_{level}_lat_dd': 'lat_dd',\n",
    "        f'matched_sort_{level}_long_dd': 'long_dd',\n",
    "    }\n",
    "            \n",
    "def fix_dates_to_ISO(dates_str):\n",
    "    dates = dates_str.replace('[', '').replace(']', '').replace(' ', '').replace('\\'', '').split(',')\n",
    "    def fix_date(date):\n",
    "        date_split = date.split('/')\n",
    "        date_y_m_d = f'{date_split[2]}-{date_split[1]}-{date_split[0]}'\n",
    "        return date_y_m_d\n",
    "    return str([fix_date(date) for date in dates])\n",
    "\n",
    "for country in countries:\n",
    "    print(f'Processing {country}')\n",
    "    levels = ['Adm_0', 'Adm_1', 'Adm_2', 'Loc']\n",
    "    if country == 'PAK':\n",
    "        levels.append('Adm_3')\n",
    "\n",
    "    old_code = geojson_country_code[country]\n",
    "    \n",
    "    for level in levels:\n",
    "        try: \n",
    "            df = pd.read_csv(f'{CLEANUP_DIR}/7_geojson_review/{old_code}_{level}_review.csv')\n",
    "        except:\n",
    "            continue\n",
    "\n",
    "        if level == 'Loc':\n",
    "            df['geometry'] = df.apply(lambda row: Point(row[f'matched_sort_{level}_lat_dd'], row[f'matched_sort_{level}_long_dd']), axis=1)\n",
    "            gdf = gpd.GeoDataFrame(df, geometry='geometry', crs=\"EPSG:4326\")\n",
    "            gdf_cols = map_columns(level)\n",
    "            result = gdf.rename(columns=gdf_cols)\n",
    "        else:\n",
    "            geo_level = geojson_level[level]\n",
    "            geojson_file = f'{CLEANUP_DIR}/8_geojson_adm_levels/geoBoundaries-{country}-{geo_level}_simplified.geojson'\n",
    "            geoboundaries_geo_df = gpd.read_file(geojson_file)\n",
    "            geoboundaries_geo_df = geoboundaries_geo_df.rename(columns={'PROV_34_NA': 'shapeName'})\n",
    "\n",
    "            if level == 'Adm_0':\n",
    "                df['shapeISO'] = country\n",
    "                # Merge DataFrames on 'shapeISO' column\n",
    "                df = df.merge(geoboundaries_geo_df[['shapeISO', 'geometry']], on='shapeISO', how='left')\n",
    "                result = df.rename(columns=map_columns(level))\n",
    "                result = gpd.GeoDataFrame(result, geometry='geometry', crs=\"EPSG:4326\")\n",
    "            else:\n",
    "                df['geometry'] = df.apply(lambda row: Point(row[f'matched_sort_{level}_long_dd'], row[f'matched_sort_{level}_lat_dd']), axis=1)\n",
    "                gdf = gpd.GeoDataFrame(df, geometry='geometry', crs=\"EPSG:4326\")\n",
    "                result = gpd.sjoin(geoboundaries_geo_df, gdf, how='left', op='contains')\n",
    "                # result.to_csv(f'{CLEANUP_DIR}/9_geojson_review/{country}_{level}_joined.csv', index=False)\n",
    "\n",
    "                # Fix dates\n",
    "                result['Date'] = result['Date'].apply(lambda x: fix_dates_to_ISO(x) if pd.notna(x) else x)\n",
    "\n",
    "                # Clean up the DataFrame\n",
    "                result = result.rename(columns=map_columns(level))\n",
    "\n",
    "                bij_columns_to_update = ['strike_count', 'dates', 'min_total', 'max_total', 'min_civilians', 'max_civilians', 'min_children', 'max_children', 'min_injured', 'max_injured']\n",
    "                for col in bij_columns_to_update:\n",
    "                    if col == 'strike_count':\n",
    "                        result[col] = result[col].fillna(0)\n",
    "                    else:\n",
    "                        result[col] = result[col].apply(lambda x: '[]' if pd.isna(x) else x)\n",
    "        result.to_csv(f'{CLEANUP_DIR}/9_geojson_review/{country}_{level}_joined.csv', index=False)"
   ]
  },
  {
   "cell_type": "code",
   "execution_count": 15,
   "metadata": {},
   "outputs": [
    {
     "name": "stdout",
     "output_type": "stream",
     "text": [
      "PAK_Adm_3_joined.csv\n",
      "AFG_Adm_0_joined.csv\n",
      "SOM_Loc_joined.csv\n",
      "PAK_Adm_1_joined.csv\n",
      "AFG_Adm_2_joined.csv\n",
      "YEM_Adm_1_joined.csv\n",
      "SOM_Adm_1_joined.csv\n",
      "SOM_Adm_2_joined.csv\n",
      "AFG_Adm_1_joined.csv\n",
      "YEM_Adm_2_joined.csv\n",
      "PAK_Adm_2_joined.csv\n",
      "YEM_Adm_0_joined.csv\n",
      "PAK_Loc_joined.csv\n",
      "SOM_Adm_0_joined.csv\n",
      "AFG_Loc_joined.csv\n",
      "PAK_Adm_0_joined.csv\n",
      "YEM_Loc_joined.csv\n"
     ]
    }
   ],
   "source": [
    "import os\n",
    "\n",
    "for filename in os.listdir(f'{CLEANUP_DIR}/9_geojson_review/'):\n",
    "   if 'csv' in filename:\n",
    "      print(filename)\n",
    "      df = pd.read_csv(filename)\n",
    "      gdf = gpd.GeoDataFrame(\n",
    "         df.loc[:, [c for c in df.columns if c != \"geometry\"]],\n",
    "         geometry=gpd.GeoSeries.from_wkt(df[\"geometry\"]),\n",
    "         crs=\"epsg:4326\",\n",
    "      )\n",
    "\n",
    "      # Columns to drop if they exist in the DataFrame\n",
    "      columns_to_drop = ['Level', 'reviewed', 'options', 'index_right', 'Unnamed: 0', 'ufi', 'adm1', 'full_name', 'full_nm_nd', 'lat_dd', 'long_dd', 'sort_name', 'OBJECTID_1']\n",
    "\n",
    "      # Iterate over the list of columns and drop them if they exist in the DataFrame\n",
    "      for column in columns_to_drop:\n",
    "         if column in gdf.columns:\n",
    "            gdf.drop(columns=[column], inplace=True)\n",
    "\n",
    "      output_filename = filename.split('_joined')[0]\n",
    "      gdf.to_file(f'{CLEANUP_DIR}/10_geojson_output/{output_filename}.geojson', driver='GeoJSON')\n",
    "      gdf.to_file(f'{DATA_DIR}/geojson/{output_filename}.geojson', driver='GeoJSON')\n"
   ]
  },
  {
   "cell_type": "code",
   "execution_count": null,
   "metadata": {},
   "outputs": [],
   "source": []
  }
 ],
 "metadata": {
  "kernelspec": {
   "display_name": "Python 3",
   "language": "python",
   "name": "python3"
  },
  "language_info": {
   "codemirror_mode": {
    "name": "ipython",
    "version": 3
   },
   "file_extension": ".py",
   "mimetype": "text/x-python",
   "name": "python",
   "nbconvert_exporter": "python",
   "pygments_lexer": "ipython3",
   "version": "3.9.7"
  },
  "orig_nbformat": 4
 },
 "nbformat": 4,
 "nbformat_minor": 2
}
